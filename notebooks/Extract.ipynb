{
 "cells": [
  {
   "cell_type": "code",
   "execution_count": 1,
   "metadata": {},
   "outputs": [],
   "source": [
    "import seaborn as sns\n",
    "import metapack as mp\n",
    "import pandas as pd\n",
    "import numpy as np\n",
    "import matplotlib.pyplot as plt\n",
    "from IPython.display import display \n",
    "\n",
    "%matplotlib inline\n",
    "sns.set_context('notebook')\n",
    "mp.jupyter.init()\n"
   ]
  },
  {
   "cell_type": "code",
   "execution_count": 8,
   "metadata": {},
   "outputs": [
    {
     "data": {
      "text/html": [
       "<h1>Student Poverty FRPM Data</h1>\n",
       "<p><code>cde.ca.gov-frpm-1.2.1</code> Last Update: 2021-03-09T23:53:10</p>\n",
       "<p><em>Data files pertaining to students eligible for Free or Reduced Price Meals (FRPM).</em></p>\n",
       "<h2>Documentation Links</h2>\n",
       "<ul>\n",
       "<li><a href=\"https://www.cde.ca.gov/ds/sd/sd/filessp.asp\">Homepage</a> Dataset home page</li>\n",
       "</ul>\n",
       "<h2>Contacts</h2>\n",
       "<ul>\n",
       "<li><strong>Wrangler</strong> <a href=\"mailto:eric@civicknowledge.com\">Eric Busboom</a>, <a href=\"http://civicknowledge.com\">Civic Knowledge</a></li>\n",
       "</ul>\n",
       "<h2>Resources</h2>\n",
       "<ul>\n",
       "<li><strong> <a href=\"https://www.cde.ca.gov/ds/sd/sd/documents/frpm0405.xls#1\">frpm04</a></strong>. Free and Reduced Price Meals, 2004</li>\n",
       "<li><strong> <a href=\"https://www.cde.ca.gov/ds/sd/sd/documents/frpm0506.xls#1\">frpm05</a></strong>. Free and Reduced Price Meals, 2005</li>\n",
       "<li><strong> <a href=\"https://www.cde.ca.gov/ds/sd/sd/documents/frpm0607.xls#1\">frpm06</a></strong>. Free and Reduced Price Meals, 2006</li>\n",
       "<li><strong> <a href=\"https://www.cde.ca.gov/ds/sd/sd/documents/frpm0708.xls#1\">frpm07</a></strong>. Free and Reduced Price Meals, 2007</li>\n",
       "<li><strong> <a href=\"https://www.cde.ca.gov/ds/sd/sd/documents/frpm0809.xls#1\">frpm08</a></strong>. Free and Reduced Price Meals, 2008</li>\n",
       "<li><strong> <a href=\"https://www.cde.ca.gov/ds/sd/sd/documents/frpm0910.xls#1\">frpm09</a></strong>. Free and Reduced Price Meals, 2009</li>\n",
       "<li><strong> <a href=\"https://www.cde.ca.gov/ds/sd/sd/documents/frpm1011.xls#1\">frpm10</a></strong>. Free and Reduced Price Meals, 2010</li>\n",
       "<li><strong> <a href=\"https://www.cde.ca.gov/ds/sd/sd/documents/frpm1112.xls#1\">frpm11</a></strong>. Free and Reduced Price Meals, 2011</li>\n",
       "<li><strong> <a href=\"https://www.cde.ca.gov/ds/sd/sd/documents/frpm1213.xls#1\">frpm12</a></strong>. Free and Reduced Price Meals, 2012</li>\n",
       "<li><strong> <a href=\"https://www.cde.ca.gov/ds/sd/sd/documents/frpm1314.xls#1\">frpm13</a></strong>. Free and Reduced Price Meals, 2013</li>\n",
       "<li><strong> <a href=\"https://www.cde.ca.gov/ds/sd/sd/documents/frpm1415.xls#1\">frpm14</a></strong>. Free and Reduced Price Meals, 2014</li>\n",
       "<li><strong> <a href=\"https://www.cde.ca.gov/ds/sd/sd/documents/frpm1516.xls#1\">frpm15</a></strong>. Free and Reduced Price Meals, 2015</li>\n",
       "<li><strong> <a href=\"https://www.cde.ca.gov/ds/sd/sd/documents/frpm1617.xls#1\">frpm16</a></strong>. Free and Reduced Price Meals, 2016</li>\n",
       "<li><strong> <a href=\"https://www.cde.ca.gov/ds/sd/sd/documents/frpm1718.xlsx#1\">frpm17</a></strong>. Free and Reduced Price Meals, 2017</li>\n",
       "<li><strong> <a href=\"https://www.cde.ca.gov/ds/sd/sd/documents/frpm1819.xlsx#1\">frpm18</a></strong>. Free and Reduced Price Meals, 2018</li>\n",
       "<li><strong> <a href=\"python:pylib#combined\">free_rp_meals</a></strong>. Combined data, 2004 to 2018</li>\n",
       "</ul>"
      ],
      "text/plain": [
       "# Student Poverty FRPM Data\n",
       "`cde.ca.gov-frpm-1.2.1` Last Update: 2021-03-09T23:53:10\n",
       "\n",
       "_Data files pertaining to students eligible for Free or Reduced Price Meals (FRPM)._\n",
       "\n",
       "\n",
       "## Documentation Links\n",
       "\n",
       "* [Homepage](https://www.cde.ca.gov/ds/sd/sd/filessp.asp) Dataset home page\n",
       "\n",
       " \n",
       "\n",
       "## Contacts\n",
       "\n",
       "* **Wrangler** [Eric Busboom](mailto:eric@civicknowledge.com), [Civic Knowledge](http://civicknowledge.com)\n",
       "\n",
       "## Resources\n",
       "\n",
       "* ** [frpm04](https://www.cde.ca.gov/ds/sd/sd/documents/frpm0405.xls#1)**. Free and Reduced Price Meals, 2004\n",
       "* ** [frpm05](https://www.cde.ca.gov/ds/sd/sd/documents/frpm0506.xls#1)**. Free and Reduced Price Meals, 2005\n",
       "* ** [frpm06](https://www.cde.ca.gov/ds/sd/sd/documents/frpm0607.xls#1)**. Free and Reduced Price Meals, 2006\n",
       "* ** [frpm07](https://www.cde.ca.gov/ds/sd/sd/documents/frpm0708.xls#1)**. Free and Reduced Price Meals, 2007\n",
       "* ** [frpm08](https://www.cde.ca.gov/ds/sd/sd/documents/frpm0809.xls#1)**. Free and Reduced Price Meals, 2008\n",
       "* ** [frpm09](https://www.cde.ca.gov/ds/sd/sd/documents/frpm0910.xls#1)**. Free and Reduced Price Meals, 2009\n",
       "* ** [frpm10](https://www.cde.ca.gov/ds/sd/sd/documents/frpm1011.xls#1)**. Free and Reduced Price Meals, 2010\n",
       "* ** [frpm11](https://www.cde.ca.gov/ds/sd/sd/documents/frpm1112.xls#1)**. Free and Reduced Price Meals, 2011\n",
       "* ** [frpm12](https://www.cde.ca.gov/ds/sd/sd/documents/frpm1213.xls#1)**. Free and Reduced Price Meals, 2012\n",
       "* ** [frpm13](https://www.cde.ca.gov/ds/sd/sd/documents/frpm1314.xls#1)**. Free and Reduced Price Meals, 2013\n",
       "* ** [frpm14](https://www.cde.ca.gov/ds/sd/sd/documents/frpm1415.xls#1)**. Free and Reduced Price Meals, 2014\n",
       "* ** [frpm15](https://www.cde.ca.gov/ds/sd/sd/documents/frpm1516.xls#1)**. Free and Reduced Price Meals, 2015\n",
       "* ** [frpm16](https://www.cde.ca.gov/ds/sd/sd/documents/frpm1617.xls#1)**. Free and Reduced Price Meals, 2016\n",
       "* ** [frpm17](https://www.cde.ca.gov/ds/sd/sd/documents/frpm1718.xlsx#1)**. Free and Reduced Price Meals, 2017\n",
       "* ** [frpm18](https://www.cde.ca.gov/ds/sd/sd/documents/frpm1819.xlsx#1)**. Free and Reduced Price Meals, 2018\n",
       "* ** [free_rp_meals](python:pylib#combined)**. Combined data, 2004 to 2018\n"
      ]
     },
     "execution_count": 8,
     "metadata": {},
     "output_type": "execute_result"
    }
   ],
   "source": [
    "#pkg = mp.jupyter.open_package()\n",
    "pkg = mp.jupyter.open_source_package()\n",
    "pkg"
   ]
  },
  {
   "cell_type": "code",
   "execution_count": 31,
   "metadata": {},
   "outputs": [],
   "source": [
    "from itertools import islice\n",
    "\n",
    "frames = []\n",
    "\n",
    "for r in pkg.resources():\n",
    "    if not r.get_value('ColMap'):\n",
    "        continue\n",
    "        \n",
    "    cm = {hm.source:hm.dest for hm in pkg.resource('frpm05').header_map}\n",
    "    \n",
    "    def trans_row(d):\n",
    "        return {cm.get(k,k):v for k,v in d.items()}\n",
    "    \n",
    "    def yield_rows():\n",
    "        for d in r.iterdict:\n",
    "            yield trans_row(d)\n",
    "            \n",
    "    frames.append(list(yield_rows()))\n",
    "    \n",
    "from itertools import chain\n",
    "df = pd.DataFrame(list(chain(*frames)))\n",
    "\n",
    "    "
   ]
  }
 ],
 "metadata": {
  "kernelspec": {
   "display_name": "Python 3",
   "language": "python",
   "name": "python3"
  },
  "language_info": {
   "codemirror_mode": {
    "name": "ipython",
    "version": 3
   },
   "file_extension": ".py",
   "mimetype": "text/x-python",
   "name": "python",
   "nbconvert_exporter": "python",
   "pygments_lexer": "ipython3",
   "version": "3.7.6"
  }
 },
 "nbformat": 4,
 "nbformat_minor": 4
}
